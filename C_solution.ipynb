{
 "cells": [
  {
   "cell_type": "code",
   "execution_count": 1,
   "id": "9f230759-4184-445a-82b2-5d259bf1f14e",
   "metadata": {},
   "outputs": [],
   "source": [
    "# подключение библиотек\n",
    "\n",
    "import numpy as np\n",
    "import math as m\n",
    "import matplotlib.pyplot as plt\n",
    "import seaborn as sns\n",
    "from math import inf\n",
    "import itertools as itts"
   ]
  },
  {
   "cell_type": "code",
   "execution_count": 3,
   "id": "8ac18683-71f8-4d62-9004-0afa8b303f0a",
   "metadata": {},
   "outputs": [
    {
     "name": "stdout",
     "output_type": "stream",
     "text": [
      "Yes\n"
     ]
    }
   ],
   "source": [
    "# Функция для итогового сравнения \n",
    "def watchSet(S, N):\n",
    "    for i in range(1, N+1):\n",
    "        if not (i in S):\n",
    "            return False\n",
    "    return True\n",
    "\n",
    "#\n",
    "# функция, фозвращающая все возможные веса, полученные\n",
    "# с помощью гирь N (DIM)\n",
    "def allCombsDimKSet(DIM):\n",
    "    wSet = []\n",
    "    pairsToRemove = list(set(list(itts.combinations(W, DIM))))\n",
    "    #pairsToRemove = list(itts.combinations(W, DIM))\n",
    "\n",
    "    for ww in pairsToRemove:\n",
    "        tmpW = W.copy()\n",
    "        [tmpW.remove(item) for item in ww]\n",
    "        \n",
    "        wListloc = [[sum(it) - sum(ww) for it in list(itts.combinations(tmpW, P)) if sum(it) - sum(ww) > 0] for P in range(1, len(tmpW)+1)]\n",
    "\n",
    "        for item in wListloc:\n",
    "            wSet.extend(item)\n",
    "    return wSet\n",
    "\n",
    "\n",
    "#------------------------------START HERE------------------------------\n",
    "# unlock what ypu need\n",
    "N, W = 94, [34, 7, 4, 25, 30, 27, 39]\n",
    "#N = int(input()) \n",
    "#W = [int(i) for i in input().split()]\n",
    "\n",
    "wLen = len(W)\n",
    "#dimentions = (wLen + 1) // 2\n",
    "#dimentions = wLen - 1\n",
    "\n",
    "if N > sum(W):\n",
    "    print('No')\n",
    "else:\n",
    "    #FINAL\n",
    "    finalList = [allCombsDimKSet(k) for k in range(wLen)]\n",
    "    wGlobalSet = []\n",
    "    \n",
    "    for item in finalList:\n",
    "        wGlobalSet.extend(item)\n",
    "        \n",
    "    if watchSet(set(wGlobalSet), N):\n",
    "        print('Yes')\n",
    "    else:\n",
    "        print('No')"
   ]
  },
  {
   "cell_type": "code",
   "execution_count": null,
   "id": "f477d76b-1a34-4a56-9f65-997f1a9185b0",
   "metadata": {},
   "outputs": [],
   "source": []
  }
 ],
 "metadata": {
  "kernelspec": {
   "display_name": "Python 3 (ipykernel)",
   "language": "python",
   "name": "python3"
  },
  "language_info": {
   "codemirror_mode": {
    "name": "ipython",
    "version": 3
   },
   "file_extension": ".py",
   "mimetype": "text/x-python",
   "name": "python",
   "nbconvert_exporter": "python",
   "pygments_lexer": "ipython3",
   "version": "3.9.12"
  }
 },
 "nbformat": 4,
 "nbformat_minor": 5
}
